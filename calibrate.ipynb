{
 "cells": [
  {
   "cell_type": "code",
   "execution_count": 1,
   "metadata": {},
   "outputs": [
    {
     "name": "stdout",
     "output_type": "stream",
     "text": [
      "env: CUDA_VISIBLE_DEVICES=1\n"
     ]
    }
   ],
   "source": [
    "%env CUDA_VISIBLE_DEVICES=1"
   ]
  },
  {
   "cell_type": "code",
   "execution_count": 2,
   "metadata": {},
   "outputs": [],
   "source": [
    "import argparse\n",
    "import scipy\n",
    "import torch\n",
    "import time\n",
    "import torch.nn as nn\n",
    "import os\n",
    "import pandas as pd\n",
    "import numpy as np\n",
    "import pickle\n",
    "import yaml\n",
    "import matplotlib.pyplot as plt\n",
    "import torch.nn.functional as F\n",
    "\n",
    "from fno_utils import FNO2d, FNODatasetSingle"
   ]
  },
  {
   "cell_type": "code",
   "execution_count": 3,
   "metadata": {},
   "outputs": [],
   "source": [
    "cfg_fn = os.path.join(\"experiments\", f\"config_Darcy.yaml\")\n",
    "with open(cfg_fn, \"r\") as f:\n",
    "    cfg = yaml.safe_load(f)"
   ]
  },
  {
   "cell_type": "code",
   "execution_count": 4,
   "metadata": {},
   "outputs": [
    {
     "name": "stdout",
     "output_type": "stream",
     "text": [
      ".HDF5 file extension is assumed hereafter\n"
     ]
    }
   ],
   "source": [
    "pde_name = cfg[\"filename\"].split(\".h\")[0]\n",
    "times = []\n",
    "num_trials = 10\n",
    "trial_size = 1\n",
    "train_data = FNODatasetSingle(filename=os.path.join(\"experiments\", cfg[\"filename\"]))\n",
    "train_loader = torch.utils.data.DataLoader(train_data, batch_size=trial_size)\n",
    "model_weights = torch.load(os.path.join(\"experiments\", f\"{pde_name}_FNO.pt\"))"
   ]
  },
  {
   "cell_type": "code",
   "execution_count": 5,
   "metadata": {},
   "outputs": [
    {
     "data": {
      "text/plain": [
       "<All keys matched successfully>"
      ]
     },
     "execution_count": 5,
     "metadata": {},
     "output_type": "execute_result"
    }
   ],
   "source": [
    "fno = FNO2d(\n",
    "    num_channels=cfg[\"num_channels\"], \n",
    "    modes1=cfg[\"modes\"], \n",
    "    modes2=cfg[\"modes\"], \n",
    "    width=cfg[\"width\"], \n",
    "    initial_step=cfg[\"initial_step\"]).to(\"cuda\")\n",
    "fno.load_state_dict(model_weights[\"model_state_dict\"])"
   ]
  },
  {
   "cell_type": "code",
   "execution_count": null,
   "metadata": {},
   "outputs": [],
   "source": []
  }
 ],
 "metadata": {
  "kernelspec": {
   "display_name": "operator",
   "language": "python",
   "name": "python3"
  },
  "language_info": {
   "codemirror_mode": {
    "name": "ipython",
    "version": 3
   },
   "file_extension": ".py",
   "mimetype": "text/x-python",
   "name": "python",
   "nbconvert_exporter": "python",
   "pygments_lexer": "ipython3",
   "version": "3.11.8"
  }
 },
 "nbformat": 4,
 "nbformat_minor": 2
}
