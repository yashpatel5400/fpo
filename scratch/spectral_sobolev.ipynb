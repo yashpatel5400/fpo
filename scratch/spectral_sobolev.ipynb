{
 "cells": [
  {
   "cell_type": "code",
   "execution_count": 1,
   "metadata": {},
   "outputs": [],
   "source": [
    "import numpy as np\n",
    "from numpy.polynomial import chebyshev as C"
   ]
  },
  {
   "cell_type": "code",
   "execution_count": 2,
   "metadata": {},
   "outputs": [],
   "source": [
    "def get_disc_grid(disc_pts):\n",
    "    x_rec  = np.arange(0, 1, 1 / disc_pts)\n",
    "    arrays = [x_rec, x_rec]\n",
    "    la = len(arrays)\n",
    "    dtype = np.result_type(*arrays)\n",
    "    arr = np.empty([len(a) for a in arrays] + [la], dtype=dtype)\n",
    "    for i, a in enumerate(np.ix_(*arrays)):\n",
    "        arr[...,i] = a\n",
    "    return arr.reshape(-1, la)"
   ]
  },
  {
   "cell_type": "code",
   "execution_count": 3,
   "metadata": {},
   "outputs": [],
   "source": [
    "x_grid = get_disc_grid(100)"
   ]
  },
  {
   "cell_type": "code",
   "execution_count": 4,
   "metadata": {},
   "outputs": [],
   "source": [
    "def sobolev(f, cn=3):\n",
    "    sobolev_norm_alphas = []\n",
    "    cur_ders = [f]\n",
    "    for _ in range(cn+1):\n",
    "        sobolev_norm_alpha = np.max([np.max(np.abs(C.chebval2d(x_grid[:,0], x_grid[:,1], der))) for der in cur_ders])\n",
    "        sobolev_norm_alphas.append(sobolev_norm_alpha)\n",
    "\n",
    "        next_ders = []\n",
    "        for der in cur_ders:\n",
    "            for axis in range(2):\n",
    "                next_ders.append(C.chebder(der, axis=axis))\n",
    "        cur_ders = next_ders\n",
    "    return np.sum(sobolev_norm_alphas)"
   ]
  },
  {
   "cell_type": "code",
   "execution_count": 5,
   "metadata": {},
   "outputs": [],
   "source": [
    "K = 100\n",
    "f = np.random.random((K, K))"
   ]
  },
  {
   "cell_type": "code",
   "execution_count": null,
   "metadata": {},
   "outputs": [],
   "source": [
    "sobolev(f)"
   ]
  }
 ],
 "metadata": {
  "kernelspec": {
   "display_name": "operator",
   "language": "python",
   "name": "python3"
  },
  "language_info": {
   "codemirror_mode": {
    "name": "ipython",
    "version": 3
   },
   "file_extension": ".py",
   "mimetype": "text/x-python",
   "name": "python",
   "nbconvert_exporter": "python",
   "pygments_lexer": "ipython3",
   "version": "3.11.8"
  }
 },
 "nbformat": 4,
 "nbformat_minor": 2
}
