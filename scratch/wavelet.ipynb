{
 "cells": [
  {
   "cell_type": "code",
   "execution_count": 1,
   "metadata": {},
   "outputs": [
    {
     "name": "stdout",
     "output_type": "stream",
     "text": [
      "env: CUDA_VISIBLE_DEVICES=0\n"
     ]
    }
   ],
   "source": [
    "%env CUDA_VISIBLE_DEVICES=0"
   ]
  },
  {
   "cell_type": "code",
   "execution_count": 123,
   "metadata": {},
   "outputs": [],
   "source": [
    "import sys\n",
    "sys.path.append(\"..\")\n",
    "\n",
    "import argparse\n",
    "import scipy\n",
    "import torch\n",
    "import time\n",
    "import torch.nn as nn\n",
    "import os\n",
    "import pandas as pd\n",
    "import seaborn as sns\n",
    "import numpy as np\n",
    "import pickle\n",
    "import yaml\n",
    "import matplotlib.pyplot as plt\n",
    "import torch.nn.functional as F\n",
    "\n",
    "import numpy as np\n",
    "from math import sqrt\n",
    "import matplotlib.pyplot as plt\n",
    "import pywt\n",
    "import math\n",
    "\n",
    "from fno_utils import FNO2d, FNODatasetSingle"
   ]
  },
  {
   "cell_type": "code",
   "execution_count": 124,
   "metadata": {},
   "outputs": [],
   "source": [
    "device = \"cuda\"\n",
    "\n",
    "cfg_fn = os.path.join(\"..\", \"experiments\", f\"config_rdb.yaml\")\n",
    "with open(cfg_fn, \"r\") as f:\n",
    "    cfg = yaml.safe_load(f)"
   ]
  },
  {
   "cell_type": "code",
   "execution_count": 125,
   "metadata": {},
   "outputs": [
    {
     "data": {
      "text/plain": [
       "<All keys matched successfully>"
      ]
     },
     "execution_count": 125,
     "metadata": {},
     "output_type": "execute_result"
    }
   ],
   "source": [
    "pde_name = cfg[\"filename\"].split(\".h\")[0]\n",
    "model_weights = torch.load(os.path.join(\"..\", \"experiments\", f\"{pde_name}_FNO.pt\"), map_location=torch.device('cuda'))\n",
    "\n",
    "fno = FNO2d(\n",
    "    num_channels=cfg[\"num_channels\"], \n",
    "    modes1=cfg[\"modes\"], \n",
    "    modes2=cfg[\"modes\"], \n",
    "    width=cfg[\"width\"], \n",
    "    initial_step=cfg[\"initial_step\"]).to(\"cuda\")\n",
    "fno.load_state_dict(model_weights[\"model_state_dict\"])"
   ]
  },
  {
   "cell_type": "code",
   "execution_count": 126,
   "metadata": {},
   "outputs": [
    {
     "name": "stdout",
     "output_type": "stream",
     "text": [
      ".H5 file extension is assumed hereafter\n"
     ]
    }
   ],
   "source": [
    "scores = []\n",
    "downsampling = [4]\n",
    "for resolution in downsampling:\n",
    "    batch_size = 25\n",
    "    train_data = FNODatasetSingle(filename=os.path.join(\"..\", \"experiments\", cfg[\"filename\"]), reduced_resolution=resolution)\n",
    "    train_loader = torch.utils.data.DataLoader(train_data, batch_size=batch_size)\n",
    "\n",
    "    res_scores = []\n",
    "    for xxbatch, yy, gridbatch in train_loader:\n",
    "        if cfg[\"training_type\"] == \"autoregressive\":\n",
    "            inp_shape = list(xxbatch.shape)\n",
    "            inp_shape = inp_shape[:-2]\n",
    "            inp_shape.append(-1)\n",
    "\n",
    "            xxbatch = xxbatch.reshape(inp_shape)\n",
    "            yyhat   = fno(xxbatch.to(device), gridbatch.to(device))\n",
    "            yybatch = yy[:,:,:,10:11,:].to(device)\n",
    "        else:\n",
    "            xidx = 0\n",
    "            xx   = xxbatch[xidx:xidx+1,...].to(device)\n",
    "            grid = gridbatch[xidx:xidx+1,...].to(device)\n",
    "            yhat = fno(xx[...,0,:], grid)\n",
    "        break\n",
    "    break"
   ]
  },
  {
   "cell_type": "code",
   "execution_count": 6,
   "metadata": {},
   "outputs": [],
   "source": [
    "# Fixing parameters\n",
    "scale = 7\n",
    "dx    = pow(2, -scale)\n",
    "k_s   = 1. / sqrt(pow(2, scale))\n",
    "\n",
    "# Wavelet decomposition\n",
    "wavelet_family = \"db2\"\n",
    "wavelet = pywt.Wavelet(wavelet_family)\n",
    "fL, fH, x_wav = wavelet.wavefun(level=scale+2)\n",
    "\n",
    "A = 0.0105 # db2: ~0.0105\n",
    "B = wavelet.rec_len - 2\n",
    "\n",
    "def find_nearest(array, value):\n",
    "    idx = np.searchsorted(array, value, side=\"left\")\n",
    "    if idx > 0 and (idx == len(array) or math.fabs(value - array[idx-1]) < math.fabs(value - array[idx])):\n",
    "        return idx-1\n",
    "    return idx\n",
    "\n",
    "def get_disc_idxs(xi, ks, inv_s):\n",
    "    disc_xs = inv_s * xi - ks + B\n",
    "    idx_tmp = np.searchsorted(x_wav, disc_xs)\n",
    "    idxs = np.clip(idx_tmp - 1, 0, len(x_wav)-1)\n",
    "    return idxs\n",
    "\n",
    "def cartesian_product(*arrays):\n",
    "    la = len(arrays)\n",
    "    dtype = np.result_type(*arrays)\n",
    "    arr = np.empty([len(a) for a in arrays] + [la], dtype=dtype)\n",
    "    for i, a in enumerate(np.ix_(*arrays)):\n",
    "        arr[...,i] = a\n",
    "    return arr.reshape(-1, la)"
   ]
  },
  {
   "cell_type": "code",
   "execution_count": 7,
   "metadata": {},
   "outputs": [],
   "source": [
    "y = yyhat[0,...,0,0].cpu().detach().numpy()\n",
    "\n",
    "coeffs = pywt.dwt2(y, wavelet_family)\n",
    "nb_levels = len(coeffs) - 1\n",
    "\n",
    "LL, (LH, HL, HH) = coeffs\n",
    "coeffs = np.array([LL, LH, HL, HH]).reshape(-1)\n",
    "coeffs = np.expand_dims(np.expand_dims(coeffs, axis=-1), axis=-1)"
   ]
  },
  {
   "cell_type": "code",
   "execution_count": 8,
   "metadata": {},
   "outputs": [],
   "source": [
    "x_rec  = np.arange(0, 1, dx)\n",
    "x_grid = cartesian_product(x_rec, x_rec)\n",
    "x_grid_offset = np.expand_dims(np.expand_dims(x_grid - A, 1), 1)\n",
    "\n",
    "inv_s = pow(2, scale - nb_levels)\n",
    "ks    = np.array([[(k_1, k_2) for k_2 in range(LL.shape[1])] for k_1 in range(LL.shape[0])])\n",
    "idxs  = get_disc_idxs(x_grid_offset, ks, inv_s)\n",
    "\n",
    "final_shape_tuple = (x_rec.shape[0], x_rec.shape[0], -1)\n",
    "\n",
    "fL_x, fL_y = fL[idxs[...,0]].reshape(final_shape_tuple), fL[idxs[...,1]].reshape(final_shape_tuple)\n",
    "fH_x, fH_y = fH[idxs[...,0]].reshape(final_shape_tuple), fH[idxs[...,1]].reshape(final_shape_tuple)\n",
    "\n",
    "disc_fLL = (fL_x * fL_y).reshape(final_shape_tuple)\n",
    "disc_fLH = (fH_x * fL_y).reshape(final_shape_tuple)\n",
    "disc_fHL = (fL_x * fH_y).reshape(final_shape_tuple)\n",
    "disc_fHH = (fH_x * fH_y).reshape(final_shape_tuple)\n",
    "disc_f   = (k_s * sqrt(inv_s) / sqrt(2)) * np.concatenate([disc_fLL, disc_fLH, disc_fHL, disc_fHH], axis=-1)\n",
    "disc_f   = np.transpose(disc_f, axes=(2, 0, 1))"
   ]
  },
  {
   "cell_type": "code",
   "execution_count": 9,
   "metadata": {},
   "outputs": [],
   "source": [
    "y_rec = np.sum(disc_f * coeffs, axis=0)"
   ]
  },
  {
   "cell_type": "code",
   "execution_count": 56,
   "metadata": {},
   "outputs": [],
   "source": [
    "def basin_integral(f, center, radius):\n",
    "    integral_mask = (np.linalg.norm(x_grid - center, axis=1) < radius).astype(np.int8).reshape(y_rec.shape)\n",
    "    return np.sum(f * integral_mask)"
   ]
  },
  {
   "cell_type": "code",
   "execution_count": 57,
   "metadata": {},
   "outputs": [],
   "source": [
    "basin_center  = np.array([0.75, 0.6])\n",
    "basin_radius  = 0.2\n",
    "integral      = basin_integral(disc_f[0], basin_center, basin_radius)"
   ]
  },
  {
   "cell_type": "code",
   "execution_count": 49,
   "metadata": {},
   "outputs": [],
   "source": [
    "# ---------------------------------\n",
    "# yhat = yhat.reshape(1, -1)\n",
    "# y    = yybatch[0, ...,0,0]"
   ]
  },
  {
   "cell_type": "code",
   "execution_count": 33,
   "metadata": {},
   "outputs": [],
   "source": [
    "diff = y - yhat\n",
    "diff = diff.reshape(diff.shape[0], -1).detach().cpu().numpy()\n",
    "# np.linalg.norm(diff.reshape(diff.shape[0], -1), ord=2)"
   ]
  },
  {
   "cell_type": "code",
   "execution_count": 34,
   "metadata": {},
   "outputs": [],
   "source": []
  },
  {
   "cell_type": "code",
   "execution_count": 127,
   "metadata": {},
   "outputs": [],
   "source": [
    "import cvxpy as cp\n",
    "from wavelet import get_disc_grid\n",
    "\n",
    "y = yy[0, ...,1,0].detach().cpu().numpy()\n",
    "x_grid = get_disc_grid(y.shape[0])\n",
    "candidate_w = x_grid.copy()\n",
    "r = 0.05"
   ]
  },
  {
   "cell_type": "code",
   "execution_count": 128,
   "metadata": {},
   "outputs": [],
   "source": [
    "tiled_x_grid = np.tile(x_grid, (x_grid.shape[0], 1, 1))\n",
    "tiled_offset = np.transpose(np.tile(candidate_w, (candidate_w.shape[0], 1, 1)), (1, 0, 2))"
   ]
  },
  {
   "cell_type": "code",
   "execution_count": 129,
   "metadata": {},
   "outputs": [],
   "source": [
    "offsets = tiled_x_grid - tiled_offset"
   ]
  },
  {
   "cell_type": "code",
   "execution_count": 130,
   "metadata": {},
   "outputs": [],
   "source": [
    "masks = np.linalg.norm(offsets, axis=-1) < r"
   ]
  },
  {
   "cell_type": "code",
   "execution_count": 131,
   "metadata": {},
   "outputs": [],
   "source": [
    "masks = masks.reshape(masks.shape[0], y.shape[0], y.shape[1])"
   ]
  },
  {
   "cell_type": "code",
   "execution_count": 132,
   "metadata": {},
   "outputs": [],
   "source": [
    "objs = np.sum(y * masks, axis=(1,2))"
   ]
  },
  {
   "cell_type": "code",
   "execution_count": 133,
   "metadata": {},
   "outputs": [],
   "source": [
    "wstar = candidate_w[np.argmax(objs)]"
   ]
  },
  {
   "cell_type": "code",
   "execution_count": 134,
   "metadata": {},
   "outputs": [
    {
     "data": {
      "text/plain": [
       "<matplotlib.image.AxesImage at 0x7fbc97073d10>"
      ]
     },
     "execution_count": 134,
     "metadata": {},
     "output_type": "execute_result"
    },
    {
     "data": {
      "image/png": "[encoded data removed]",
      "text/plain": [
       "<Figure size 640x480 with 1 Axes>"
      ]
     },
     "metadata": {},
     "output_type": "display_data"
    }
   ],
   "source": [
    "plt.scatter([wstar[1] * y.shape[1]], [wstar[0] * y.shape[0]])\n",
    "plt.imshow(y)"
   ]
  },
  {
   "cell_type": "code",
   "execution_count": 200,
   "metadata": {},
   "outputs": [],
   "source": [
    "# Linf robust version --\n",
    "yhat = y.flatten()\n",
    "w = np.array([0.6, 0.6])\n",
    "r = 0.05\n",
    "\n",
    "constraint_to_opt = {\n",
    "    \"l2\": None,\n",
    "    \"linf\": None,\n",
    "    \"c3\": None,\n",
    "}\n",
    "constraint_to_quantile = {\n",
    "    \"l2\": 25.0,\n",
    "    \"linf\": 1.0,\n",
    "    \"c3\": 1_000,\n",
    "}\n",
    "\n",
    "for constraint in [\"l2\", \"linf\"]:\n",
    "    x_grid = get_disc_grid(y.shape[0])\n",
    "    w_mask = (np.linalg.norm(x_grid - w, axis=1) < r).astype(np.int8)\n",
    "\n",
    "    u = cp.Variable(yhat.shape)\n",
    "\n",
    "    objective = cp.Minimize(-u @ w_mask)\n",
    "    norm_ord = 2 if constraint == \"l2\" else \"inf\"\n",
    "    constraints = [cp.norm(u - yhat, norm_ord) <= constraint_to_quantile[constraint]]\n",
    "    prob = cp.Problem(objective, constraints)\n",
    "    obj  = prob.solve()\n",
    "\n",
    "    constraint_to_opt[constraint] = u.value.reshape(y.shape)"
   ]
  },
  {
   "cell_type": "code",
   "execution_count": 204,
   "metadata": {},
   "outputs": [],
   "source": [
    "from wavelet import WaveletBasis, get_disc_grid\n",
    "from calibrate import get_partials\n",
    "\n",
    "wavelet_basis = WaveletBasis()\n",
    "\n",
    "# amortized definition of basis partials for Sobolev norm computation\n",
    "uhat_coeffs = wavelet_basis.get_decomp(y)\n",
    "shaped_basis = wavelet_basis.basis_func.reshape(wavelet_basis.basis_func.shape[1], y.shape[0], y.shape[1])\n",
    "partials = get_partials(shaped_basis)\n",
    "partials = [\n",
    "        np.transpose(np.array([partial.reshape(partial.shape[0], -1) for partial in partial_order]), (0, 2, 1)) \n",
    "        for partial_order in partials\n",
    "]\n",
    "x_grid = wavelet_basis.x_grid.reshape(y.shape[0], y.shape[1], -1)"
   ]
  },
  {
   "cell_type": "code",
   "execution_count": 137,
   "metadata": {},
   "outputs": [],
   "source": [
    "u_coeff = cp.Variable(uhat_coeffs.shape)\n",
    "\n",
    "integral_mask = (np.linalg.norm(wavelet_basis.x_grid - w, axis=1) < r).astype(np.int8).reshape(y.shape)\n",
    "psi_w = np.sum(shaped_basis * integral_mask, axis=(1,2))\n",
    "objective = cp.Minimize(-u_coeff @ psi_w)\n",
    "\n",
    "constraints = [\n",
    "    cp.sum([\n",
    "        cp.max(cp.hstack([\n",
    "            cp.abs(partial @ (uhat_coeffs - u_coeff)) for partial in partial_order\n",
    "        ])) for partial_order in partials\n",
    "    ]) <= constraint_to_quantile[\"c3\"]\n",
    "]\n",
    "\n",
    "prob = cp.Problem(objective, constraints)\n",
    "obj  = prob.solve()\n",
    "constraint_to_opt[\"c3\"] = (wavelet_basis.basis_func @ u_coeff.value).reshape(y.shape)"
   ]
  },
  {
   "cell_type": "code",
   "execution_count": 138,
   "metadata": {},
   "outputs": [
    {
     "data": {
      "text/plain": [
       "<matplotlib.colorbar.Colorbar at 0x7fbcab18c5d0>"
      ]
     },
     "execution_count": 138,
     "metadata": {},
     "output_type": "execute_result"
    },
    {
     "data": {
      "image/png": "[encoded data removed]",
      "text/plain": [
       "<Figure size 2400x600 with 5 Axes>"
      ]
     },
     "metadata": {},
     "output_type": "display_data"
    }
   ],
   "source": [
    "fig, axs = plt.subplots(1, 4, figsize=(24,6))\n",
    "\n",
    "axs[0].imshow(y)\n",
    "axs[0].scatter([w[1] * y.shape[1]], [w[0] * y.shape[0]])\n",
    "axs[0].grid(False)\n",
    "\n",
    "for i, constraint in enumerate(constraint_to_opt):\n",
    "    im = axs[i+1].imshow(constraint_to_opt[constraint])\n",
    "    axs[i+1].scatter([w[1] * y.shape[1]], [w[0] * y.shape[0]])\n",
    "    axs[i+1].grid(False)\n",
    "\n",
    "fig.subplots_adjust(right=0.8)\n",
    "cbar_ax = fig.add_axes([0.85, 0.15, 0.05, 0.7])\n",
    "fig.colorbar(im, cax=cbar_ax)"
   ]
  },
  {
   "cell_type": "code",
   "execution_count": 139,
   "metadata": {},
   "outputs": [],
   "source": [
    "def grad(u):\n",
    "    eps = 5e-2\n",
    "    bd_mask = (np.abs(np.linalg.norm(x_grid - w, axis=-1) - r) < eps).astype(np.int8)\n",
    "    w_grad_field = np.expand_dims(bd_mask, axis=-1) * (w - x_grid) * np.expand_dims(u, axis=-1)\n",
    "    w_grad = np.sum(w_grad_field, axis=(0, 1))\n",
    "    return w_grad"
   ]
  },
  {
   "cell_type": "code",
   "execution_count": 154,
   "metadata": {},
   "outputs": [
    {
     "data": {
      "text/plain": [
       "<matplotlib.patches.FancyArrow at 0x7fbca8dec090>"
      ]
     },
     "execution_count": 154,
     "metadata": {},
     "output_type": "execute_result"
    },
    {
     "data": {
      "image/png": "[encoded data removed]",
      "text/plain": [
       "<Figure size 640x480 with 1 Axes>"
      ]
     },
     "metadata": {},
     "output_type": "display_data"
    }
   ],
   "source": [
    "u  = constraint_to_opt[\"linf\"]\n",
    "\n",
    "w = np.array([0.4, 0.6])\n",
    "pt = w * y.shape\n",
    "pt_grad = grad(u)\n",
    "pt_grad = pt_grad / np.linalg.norm(pt_grad)\n",
    "\n",
    "plt.grid(False)\n",
    "plt.imshow(u)\n",
    "plt.scatter([pt[1]], [pt[0]])\n",
    "plt.arrow(pt[1], pt[0], pt_grad[1], pt_grad[0], color='black')"
   ]
  },
  {
   "cell_type": "code",
   "execution_count": 253,
   "metadata": {},
   "outputs": [],
   "source": [
    "constraint_to_ws = {\n",
    "    \"true\": [],\n",
    "    \"l2\":   [],\n",
    "    \"linf\": [],\n",
    "    \"c3\":   [],\n",
    "}"
   ]
  },
  {
   "cell_type": "code",
   "execution_count": 265,
   "metadata": {},
   "outputs": [],
   "source": [
    "# problem specification (constant over optimization)\n",
    "eta       = 1e-2\n",
    "max_iters = 100\n",
    "score_func = \"linf\"\n",
    "\n",
    "u_stars =[]\n",
    "ws      = []\n",
    "w_grads = []\n",
    "\n",
    "w = np.array([0.4, 0.6])\n",
    "for iter in range(max_iters):\n",
    "    yhat = y.flatten()\n",
    "    w_mask = (np.linalg.norm(wavelet_basis.x_grid - w, axis=1) < r).astype(np.int8)\n",
    "    norm_ord = 2 if score_func == \"l2\" else \"inf\"\n",
    "\n",
    "    if score_func in [\"l2\", \"linf\"]:\n",
    "        u = cp.Variable(yhat.shape)\n",
    "        objective = cp.Minimize(-u @ w_mask)\n",
    "        constraints = [cp.norm(u - yhat, norm_ord) <= constraint_to_quantile[score_func]]\n",
    "        prob = cp.Problem(objective, constraints)\n",
    "        obj  = prob.solve()\n",
    "        u_star = u.value.reshape(y.shape)\n",
    "    elif score_func == \"c3\":\n",
    "        u_coeff = cp.Variable(uhat_coeffs.shape)\n",
    "\n",
    "        integral_mask = (np.linalg.norm(wavelet_basis.x_grid - w, axis=1) < r).astype(np.int8).reshape(y.shape)\n",
    "        psi_w = np.sum(shaped_basis * integral_mask, axis=(1,2))\n",
    "        objective = cp.Minimize(-u_coeff @ psi_w)\n",
    "\n",
    "        constraints = [\n",
    "            cp.sum([\n",
    "                cp.max(cp.hstack([\n",
    "                    cp.abs(partial @ (uhat_coeffs - u_coeff)) for partial in partial_order\n",
    "                ])) for partial_order in partials\n",
    "            ]) <= constraint_to_quantile[score_func]\n",
    "        ]\n",
    "\n",
    "        prob = cp.Problem(objective, constraints)\n",
    "        obj  = prob.solve()\n",
    "        u_star = (wavelet_basis.basis_func @ u_coeff.value).reshape(y.shape)\n",
    "    elif score_func == \"true\":\n",
    "        u_star = y\n",
    "\n",
    "    # ---- Update to w^(t+1) using u^*\n",
    "    eps = 5e-2\n",
    "    bd_mask = (np.abs(np.linalg.norm(x_grid - w, axis=-1) - r) < eps).astype(np.int8)\n",
    "    w_grad_field = np.expand_dims(bd_mask, axis=-1) * (w - x_grid) * np.expand_dims(u_star, axis=-1)\n",
    "    w_grad = np.sum(w_grad_field, axis=(0, 1))\n",
    "    # w_grad = w_grad / np.linalg.norm(w_grad)\n",
    "    w = w - eta * w_grad\n",
    "    # print(f\"{iter} : w : {w} -- w_grad : {np.linalg.norm(w_grad)}\")\n",
    "    \n",
    "    u_stars.append(u_star)\n",
    "    ws.append(w)\n",
    "    w_grads.append(w_grad)\n",
    "constraint_to_ws[score_func] = np.array(ws)"
   ]
  },
  {
   "cell_type": "code",
   "execution_count": 266,
   "metadata": {},
   "outputs": [
    {
     "name": "stdout",
     "output_type": "stream",
     "text": [
      "0\n",
      "1\n",
      "2\n"
     ]
    },
    {
     "data": {
      "image/png": "[encoded data removed]",
      "text/plain": [
       "<Figure size 2400x600 with 4 Axes>"
      ]
     },
     "metadata": {},
     "output_type": "display_data"
    }
   ],
   "source": [
    "fig, axs = plt.subplots(1, 4, figsize=(24,6))\n",
    "for i, constraint in enumerate(constraint_to_ws):\n",
    "    ws = np.array(constraint_to_ws[constraint])\n",
    "    if len(ws) == 0:\n",
    "        continue\n",
    "\n",
    "    print(i)\n",
    "    axs[i].imshow(y)\n",
    "    axs[i].scatter(ws[:,1] * y.shape[1], ws[:,0] * y.shape[1], c=range(len(ws)))\n",
    "    axs[i].grid(False)"
   ]
  },
  {
   "cell_type": "code",
   "execution_count": 224,
   "metadata": {},
   "outputs": [
    {
     "data": {
      "text/plain": [
       "<matplotlib.patches.FancyArrow at 0x7fbcaaba5750>"
      ]
     },
     "execution_count": 224,
     "metadata": {},
     "output_type": "execute_result"
    },
    {
     "data": {
      "image/png": "[encoded data removed]",
      "text/plain": [
       "<Figure size 640x480 with 1 Axes>"
      ]
     },
     "metadata": {},
     "output_type": "display_data"
    }
   ],
   "source": [
    "idx = 0\n",
    "\n",
    "w = np.array([0.4, 0.6])\n",
    "pt = w * y.shape\n",
    "pt_grad = w_grads[idx]\n",
    "pt_grad = pt_grad / np.linalg.norm(pt_grad)\n",
    "\n",
    "plt.grid(False)\n",
    "plt.imshow(u_stars[idx])\n",
    "plt.scatter([pt[1]], [pt[0]])\n",
    "plt.arrow(pt[1], pt[0], pt_grad[1], pt_grad[0], color='yellow')"
   ]
  }
 ],
 "metadata": {
  "kernelspec": {
   "display_name": "operator",
   "language": "python",
   "name": "python3"
  },
  "language_info": {
   "codemirror_mode": {
    "name": "ipython",
    "version": 3
   },
   "file_extension": ".py",
   "mimetype": "text/x-python",
   "name": "python",
   "nbconvert_exporter": "python",
   "pygments_lexer": "ipython3",
   "version": "3.11.8"
  }
 },
 "nbformat": 4,
 "nbformat_minor": 2
}
