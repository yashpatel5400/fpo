{
 "cells": [
  {
   "cell_type": "code",
   "execution_count": 1,
   "metadata": {},
   "outputs": [],
   "source": [
    "import numpy as np\n",
    "import pickle\n",
    "\n",
    "import matplotlib.pyplot as plt\n",
    "\n",
    "import torch\n",
    "import torch.nn as nn\n",
    "import torch.nn.functional as F"
   ]
  },
  {
   "cell_type": "code",
   "execution_count": 2,
   "metadata": {},
   "outputs": [],
   "source": [
    "with open(\"poisson.pkl\", \"rb\") as f:\n",
    "    (fs, us) = pickle.load(f)"
   ]
  },
  {
   "cell_type": "code",
   "execution_count": 3,
   "metadata": {},
   "outputs": [],
   "source": [
    "prop_train = 0.75\n",
    "N = fs.shape[0]\n",
    "N_train = int(N * prop_train)\n",
    "\n",
    "f_cal = torch.from_numpy(fs[N_train:]).to(torch.float32).to(\"cuda\")\n",
    "u_cal = us[N_train:]"
   ]
  },
  {
   "cell_type": "code",
   "execution_count": 4,
   "metadata": {},
   "outputs": [],
   "source": [
    "class SpecOp(nn.Module):\n",
    "    def __init__(self, k_in, k_out):\n",
    "        super().__init__()\n",
    "\n",
    "        hidden_features = 16\n",
    "        self.linear1 = nn.Linear(k_in, hidden_features)\n",
    "        self.linear2 = nn.Linear(hidden_features, hidden_features)\n",
    "        self.linear3 = nn.Linear(hidden_features, k_out)\n",
    "\n",
    "    def forward(self, x):\n",
    "        x = self.linear1(x)\n",
    "        x = F.relu(x)\n",
    "        x = self.linear2(x)\n",
    "        x = F.relu(x)\n",
    "        x = self.linear3(x)\n",
    "        return x\n",
    "    \n",
    "with open(\"poisson.pkl\", \"rb\") as f:\n",
    "    (fs, us) = pickle.load(f)\n",
    "\n",
    "net  = SpecOp(fs.shape[-1], us.shape[-1])"
   ]
  },
  {
   "cell_type": "code",
   "execution_count": 5,
   "metadata": {},
   "outputs": [
    {
     "data": {
      "text/plain": [
       "SpecOp(\n",
       "  (linear1): Linear(in_features=65536, out_features=16, bias=True)\n",
       "  (linear2): Linear(in_features=16, out_features=16, bias=True)\n",
       "  (linear3): Linear(in_features=16, out_features=65536, bias=True)\n",
       ")"
      ]
     },
     "execution_count": 5,
     "metadata": {},
     "output_type": "execute_result"
    }
   ],
   "source": [
    "net.load_state_dict(torch.load(\"poisson.pt\", weights_only=True))\n",
    "net.eval().to(\"cuda\")"
   ]
  },
  {
   "cell_type": "code",
   "execution_count": 6,
   "metadata": {},
   "outputs": [],
   "source": [
    "def cartesian_product(*arrays):\n",
    "    la = len(arrays)\n",
    "    dtype = np.result_type(*arrays)\n",
    "    arr = np.empty([len(a) for a in arrays] + [la], dtype=dtype)\n",
    "    for i, a in enumerate(np.ix_(*arrays)):\n",
    "        arr[...,i] = a\n",
    "    return arr.reshape(-1, la)\n"
   ]
  },
  {
   "cell_type": "code",
   "execution_count": 50,
   "metadata": {},
   "outputs": [],
   "source": [
    "u_hat = net(f_cal).cpu().detach().numpy()\n",
    "u_hat = np.transpose(u_hat.reshape((u_hat.shape[0], 256, 256)), (0, 2, 1))\n",
    "u_cal = np.transpose(u_cal.reshape((u_hat.shape[0], 256, 256)), (0, 2, 1))"
   ]
  },
  {
   "cell_type": "code",
   "execution_count": 59,
   "metadata": {},
   "outputs": [],
   "source": [
    "s = 2 # working w/ Laplacian in PDE immediately imposes s = 2 smoothness\n",
    "    \n",
    "def sobolev_cp_cov(K, gamma, cal_size=100, alpha=0.05):\n",
    "    coords = cartesian_product(\n",
    "        np.array(range(u_hat.shape[-2])), \n",
    "        np.array(range(u_hat.shape[-1]))\n",
    "    ).reshape((u_hat.shape[-2], u_hat.shape[-1], 2))\n",
    "    ks = np.sum(coords, axis=-1)\n",
    "    d = len(u_hat[0].shape)\n",
    "    \n",
    "    sobolev_scaling = (1 + ks ** (2 * d)) ** (s - gamma)\n",
    "    \n",
    "    full_sobolev_residual = (sobolev_scaling * (u_hat - u_cal))[:150,:150]\n",
    "    full_sobolev_norm = full_sobolev_residual.reshape(-1, np.prod(full_sobolev_residual.shape[1:])).sum(axis=-1)\n",
    "    \n",
    "    truncated_sobolev_residual = full_sobolev_residual[:K, :K]\n",
    "    truncated_sobolev_norm = truncated_sobolev_residual.reshape(-1, K * K).sum(axis=-1)\n",
    "\n",
    "    cal_norms, truncated_test_norms = truncated_sobolev_norm[:cal_size], truncated_sobolev_norm[cal_size:]\n",
    "    q_hat = np.quantile(cal_norms, 1-alpha)\n",
    "\n",
    "    # NOTE: this coverage is the standard CP guarantee -- we only use for debugging\n",
    "    # coverage = np.sum(truncated_test_norms < q_hat) / len(truncated_test_norms)\n",
    "    # print(f\"[DEBUG] Coverage: {coverage} vs {1 - alpha}\")\n",
    "    \n",
    "    full_coverage = np.sum(full_sobolev_norm < q_hat) / len(truncated_test_norms)\n",
    "    return full_coverage"
   ]
  },
  {
   "cell_type": "code",
   "execution_count": 60,
   "metadata": {},
   "outputs": [],
   "source": [
    "gamma_to_cov = {}\n",
    "for gamma in range(0, s):\n",
    "    Ks = np.arange(10, 101, 10)\n",
    "    coverages = []\n",
    "    for K in Ks:\n",
    "        coverage = sobolev_cp_cov(K, gamma)\n",
    "        coverages.append(coverage)\n",
    "    gamma_to_cov[gamma] = np.array(coverages)"
   ]
  },
  {
   "cell_type": "code",
   "execution_count": 65,
   "metadata": {},
   "outputs": [
    {
     "data": {
      "text/plain": [
       "<matplotlib.legend.Legend at 0x7f259c1a3790>"
      ]
     },
     "execution_count": 65,
     "metadata": {},
     "output_type": "execute_result"
    },
    {
     "data": {
      "image/png": "[encoded data removed]",
      "text/plain": [
       "<Figure size 640x480 with 1 Axes>"
      ]
     },
     "metadata": {},
     "output_type": "display_data"
    }
   ],
   "source": [
    "plt.xlabel(\"K\")\n",
    "plt.ylabel(\"Miscoverage\")\n",
    "\n",
    "for gamma in gamma_to_cov:\n",
    "    plt.plot(Ks, 1 - gamma_to_cov[gamma], label=r\"$\\gamma = \" + str(gamma) + \"$\")\n",
    "plt.legend()"
   ]
  },
  {
   "cell_type": "code",
   "execution_count": null,
   "metadata": {},
   "outputs": [],
   "source": []
  }
 ],
 "metadata": {
  "kernelspec": {
   "display_name": "spectral",
   "language": "python",
   "name": "python3"
  },
  "language_info": {
   "codemirror_mode": {
    "name": "ipython",
    "version": 3
   },
   "file_extension": ".py",
   "mimetype": "text/x-python",
   "name": "python",
   "nbconvert_exporter": "python",
   "pygments_lexer": "ipython3",
   "version": "3.11.10"
  }
 },
 "nbformat": 4,
 "nbformat_minor": 2
}
