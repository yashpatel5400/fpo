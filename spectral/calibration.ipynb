{
 "cells": [
  {
   "cell_type": "code",
   "execution_count": 1,
   "metadata": {},
   "outputs": [],
   "source": [
    "import numpy as np\n",
    "import pickle\n",
    "import pandas as pd\n",
    "import os\n",
    "\n",
    "import matplotlib.pyplot as plt\n",
    "\n",
    "import torch\n",
    "import torch.nn as nn\n",
    "import torch.nn.functional as F\n",
    "\n",
    "import einops\n",
    "\n",
    "import utils"
   ]
  },
  {
   "cell_type": "code",
   "execution_count": 2,
   "metadata": {},
   "outputs": [],
   "source": [
    "import seaborn as sns\n",
    "import matplotlib as mpl\n",
    "import matplotlib.pyplot as plt\n",
    "\n",
    "sns.set_theme()\n",
    "\n",
    "mpl.rcParams['text.usetex'] = True\n",
    "mpl.rcParams['mathtext.fontset'] = 'stix'\n",
    "mpl.rcParams['font.family'] = 'STIXGeneral'\n",
    "mpl.rcParams['text.latex.preamble'] = r'\\usepackage{amsfonts}'\n",
    "\n",
    "SMALL_SIZE = 12\n",
    "MEDIUM_SIZE = 14\n",
    "BIGGER_SIZE = 18\n",
    "\n",
    "plt.rc('font', size=BIGGER_SIZE)          # controls default text sizes\n",
    "plt.rc('axes', titlesize=BIGGER_SIZE)     # fontsize of the axes title\n",
    "plt.rc('axes', labelsize=BIGGER_SIZE)    # fontsize of the x and y labels\n",
    "plt.rc('xtick', labelsize=BIGGER_SIZE)    # fontsize of the tick labels\n",
    "plt.rc('ytick', labelsize=BIGGER_SIZE)    # fontsize of the tick labels\n",
    "plt.rc('legend', fontsize=BIGGER_SIZE)    # legend fontsize\n",
    "plt.rc('figure', titlesize=BIGGER_SIZE)  # fontsize of the figure title"
   ]
  },
  {
   "cell_type": "code",
   "execution_count": 3,
   "metadata": {},
   "outputs": [],
   "source": [
    "pde = \"poisson\"\n",
    "with open(utils.DATA_FN(pde), \"rb\") as f:\n",
    "    (fs, us) = pickle.load(f)"
   ]
  },
  {
   "cell_type": "code",
   "execution_count": 4,
   "metadata": {},
   "outputs": [],
   "source": [
    "prop_train = 0.75\n",
    "N = fs.shape[0]\n",
    "N_train = int(N * prop_train)\n",
    "\n",
    "f_cal = torch.from_numpy(fs[N_train:]).to(torch.float32).to(\"cuda\")\n",
    "u_cal = us[N_train:]"
   ]
  },
  {
   "cell_type": "code",
   "execution_count": 5,
   "metadata": {},
   "outputs": [],
   "source": [
    "class SpecOp(nn.Module):\n",
    "    def __init__(self, k_in, k_out):\n",
    "        super().__init__()\n",
    "\n",
    "        hidden_features = 16\n",
    "        self.linear1 = nn.Linear(k_in, hidden_features)\n",
    "        self.linear2 = nn.Linear(hidden_features, hidden_features)\n",
    "        self.linear3 = nn.Linear(hidden_features, k_out)\n",
    "\n",
    "    def forward(self, x):\n",
    "        x = self.linear1(x)\n",
    "        x = F.relu(x)\n",
    "        x = self.linear2(x)\n",
    "        x = F.relu(x)\n",
    "        x = self.linear3(x)\n",
    "        return x\n",
    "    \n",
    "net  = SpecOp(fs.shape[-1], us.shape[-1])"
   ]
  },
  {
   "cell_type": "code",
   "execution_count": 6,
   "metadata": {},
   "outputs": [
    {
     "data": {
      "text/plain": [
       "SpecOp(\n",
       "  (linear1): Linear(in_features=65536, out_features=16, bias=True)\n",
       "  (linear2): Linear(in_features=16, out_features=16, bias=True)\n",
       "  (linear3): Linear(in_features=16, out_features=65536, bias=True)\n",
       ")"
      ]
     },
     "execution_count": 6,
     "metadata": {},
     "output_type": "execute_result"
    }
   ],
   "source": [
    "net.load_state_dict(torch.load(utils.MODEL_FN(pde), weights_only=True))\n",
    "net.eval().to(\"cuda\")"
   ]
  },
  {
   "cell_type": "code",
   "execution_count": 7,
   "metadata": {},
   "outputs": [],
   "source": [
    "def cartesian_product(*arrays):\n",
    "    la = len(arrays)\n",
    "    dtype = np.result_type(*arrays)\n",
    "    arr = np.empty([len(a) for a in arrays] + [la], dtype=dtype)\n",
    "    for i, a in enumerate(np.ix_(*arrays)):\n",
    "        arr[...,i] = a\n",
    "    return arr.reshape(-1, la)\n"
   ]
  },
  {
   "cell_type": "code",
   "execution_count": 8,
   "metadata": {},
   "outputs": [],
   "source": [
    "u_hat = net(f_cal).cpu().detach().numpy()\n",
    "u_hat = np.transpose(u_hat.reshape((u_hat.shape[0], 256, 256)), (0, 2, 1))\n",
    "u_cal = np.transpose(u_cal.reshape((u_hat.shape[0], 256, 256)), (0, 2, 1))"
   ]
  },
  {
   "cell_type": "code",
   "execution_count": 54,
   "metadata": {},
   "outputs": [],
   "source": [
    "s = 2 # working w/ Laplacian in PDE immediately imposes s = 2 smoothness\n",
    "    \n",
    "def get_sobolev_weights(gamma):\n",
    "    coords = cartesian_product(\n",
    "        np.array(range(u_hat.shape[-2])), \n",
    "        np.array(range(u_hat.shape[-1]))\n",
    "    ).reshape((u_hat.shape[-2], u_hat.shape[-1], 2))\n",
    "    ks = np.sum(coords, axis=-1)\n",
    "    d = len(u_hat[0].shape)\n",
    "    return (1 + ks ** (2 * d)) ** (s - gamma)\n",
    "    \n",
    "def sobolev_cp_cov(K, gamma, alphas=[0.05], cal_size=150):\n",
    "    alphas = np.array(alphas)\n",
    "    sobolev_scaling = get_sobolev_weights(gamma)\n",
    "    K_full = 150\n",
    "    \n",
    "    full_sobolev_residual = (sobolev_scaling * (u_hat - u_cal) ** 2)[:,:K_full,:K_full]\n",
    "    full_sobolev_norm = full_sobolev_residual.reshape(-1, np.prod(full_sobolev_residual.shape[1:])).sum(axis=-1)\n",
    "    np.random.shuffle(full_sobolev_norm)\n",
    "    \n",
    "    full_cal_norms, full_test_norms = full_sobolev_norm[:cal_size], full_sobolev_norm[cal_size:]\n",
    "    q_hat_stars = np.quantile(full_cal_norms, 1-alphas)\n",
    "    \n",
    "    truncated_sobolev_residual = full_sobolev_residual[:,:K,:K]\n",
    "    truncated_sobolev_norm = truncated_sobolev_residual.reshape(-1, K * K).sum(axis=-1)\n",
    "    truncated_cal_norms, truncated_test_norms = truncated_sobolev_norm[:cal_size], truncated_sobolev_norm[cal_size:]\n",
    "    q_hats = np.quantile(truncated_cal_norms, 1-alphas)\n",
    "    \n",
    "    # NOTE: these coverages are the standard CP guarantee -- we only use for debugging\n",
    "    tiled_full_test_norms      = einops.repeat(full_test_norms, \"n -> n repeat\", repeat=len(alphas))\n",
    "    tiled_truncated_test_norms = einops.repeat(truncated_test_norms, \"n -> n repeat\", repeat=len(alphas))\n",
    "    debug_full_coverage        = einops.reduce((tiled_full_test_norms < q_hat_stars) / len(tiled_full_test_norms), \"n repeat -> repeat\", reduction=\"sum\")\n",
    "    debug_truncated_coverage   = einops.reduce((tiled_truncated_test_norms < q_hats) / len(truncated_test_norms), \"n repeat -> repeat\", reduction=\"sum\")\n",
    "    # print(f\"[DEBUG] Truncated Coverage: {debug_truncated_coverage} vs {1 - alphas}  |  Full Coverage: {debug_full_coverage} vs {1 - alphas}\")\n",
    "    \n",
    "    full_coverages = einops.reduce((tiled_full_test_norms < q_hats) / len(tiled_full_test_norms), \"n repeat -> repeat\", reduction=\"sum\")\n",
    "    delta_qs = (q_hat_stars - q_hats) / q_hat_stars\n",
    "    \n",
    "    n = np.prod(full_sobolev_residual.shape[1:])\n",
    "    ellipsoid_vol = n / 2 * np.log(q_hat_stars[0]) - np.sum(np.log(sobolev_scaling)) / 2\n",
    "    \n",
    "    return delta_qs, ellipsoid_vol, full_coverages"
   ]
  },
  {
   "cell_type": "code",
   "execution_count": 55,
   "metadata": {},
   "outputs": [
    {
     "data": {
      "text/plain": [
       "<Figure size 640x480 with 0 Axes>"
      ]
     },
     "metadata": {},
     "output_type": "display_data"
    }
   ],
   "source": [
    "alphas = np.arange(0.05, 1, 0.05)\n",
    "gamma_eps = 0.1\n",
    "gammas = np.arange(1, s + gamma_eps, gamma_eps)\n",
    "volumes = []\n",
    "\n",
    "volume_df = pd.DataFrame(columns=[\"trial\", \"gamma\", \"volume\"])\n",
    "for gamma in gammas:\n",
    "    coverage_df = pd.DataFrame(columns=[\"trial\", \"alpha\", \"coverage\"])\n",
    "    delta_q_df  = pd.DataFrame(columns=[\"trial\", \"K\", \"delta_q\"])\n",
    "\n",
    "    alphas = np.arange(0.05, 1, 0.05)\n",
    "    trials = range(1)\n",
    "    for trial in trials:\n",
    "        _, volume, coverages = sobolev_cp_cov(K=125, gamma=gamma, alphas=alphas)\n",
    "        for alpha, coverage in zip(alphas, coverages):\n",
    "            coverage_df.loc[-1] = [trial, 1-alpha, coverage]\n",
    "            coverage_df.index = coverage_df.index + 1\n",
    "            coverage_df = coverage_df.sort_index()\n",
    "        \n",
    "        volume_df.loc[-1] = [trial, gamma, volume]\n",
    "        volume_df.index = volume_df.index + 1\n",
    "        volume_df = volume_df.sort_index()\n",
    "\n",
    "        # Ks = np.arange(5, 100, 5)\n",
    "        # for K in Ks:\n",
    "        #     delta_q, _ = sobolev_cp_cov(K=K, gamma=gamma, alphas=[0.05])\n",
    "        #     delta_q_df.loc[-1] = [trial, K, delta_q[0]]\n",
    "        #     delta_q_df.index = delta_q_df.index + 1\n",
    "        #     delta_q_df = delta_q_df.sort_index()\n",
    "    \n",
    "    # plt.title(r\"$K$ vs $\\Delta\\widehat{q}$ ($\\gamma = \" + str(gamma) + \"$)\")\n",
    "    # plt.xlabel(r\"$K$\")\n",
    "    # plt.ylabel(r\"$\\widehat{q}^{*}_{\\gamma} - \\widehat{q}_{\\gamma}$\")\n",
    "    # sns.lineplot(delta_q_df, x=\"K\", y=\"delta_q\")\n",
    "    # plt.savefig(os.path.join(pde, f\"delta_q_gamma={gamma}.png\"))\n",
    "    # plt.tight_layout()\n",
    "    # plt.clf()\n",
    "\n",
    "    plt.title(r\"$\\mathrm{Calibration}$\")\n",
    "    plt.xlabel(r\"$\\alpha$\")\n",
    "    plt.ylabel(r\"$\\mathrm{Coverage}$\")\n",
    "    sns.lineplot(coverage_df, x=\"alpha\", y=\"coverage\", label=r\"$\\gamma=\" + str(gamma) + \"$\")\n",
    "\n",
    "plt.legend(loc='center left', bbox_to_anchor=(1, 0.5))\n",
    "plt.savefig(os.path.join(pde, f\"coverage.png\"))\n",
    "plt.tight_layout()\n",
    "plt.clf()"
   ]
  },
  {
   "cell_type": "code",
   "execution_count": 53,
   "metadata": {},
   "outputs": [
    {
     "data": {
      "text/plain": [
       "<Figure size 640x480 with 0 Axes>"
      ]
     },
     "metadata": {},
     "output_type": "display_data"
    }
   ],
   "source": [
    "plt.title(r\"$\\gamma \\mathrm{\\ vs\\ Volume}$\")\n",
    "plt.xlabel(r\"$\\gamma$\")\n",
    "plt.ylabel(r\"$\\mathrm{Volume}$\")\n",
    "sns.lineplot(volume_df, x=\"gamma\", y=\"volume\")\n",
    "\n",
    "plt.savefig(os.path.join(pde, f\"volume.png\"))\n",
    "plt.tight_layout()\n",
    "plt.clf()"
   ]
  },
  {
   "cell_type": "code",
   "execution_count": null,
   "metadata": {},
   "outputs": [],
   "source": []
  }
 ],
 "metadata": {
  "kernelspec": {
   "display_name": "spectral",
   "language": "python",
   "name": "python3"
  },
  "language_info": {
   "codemirror_mode": {
    "name": "ipython",
    "version": 3
   },
   "file_extension": ".py",
   "mimetype": "text/x-python",
   "name": "python",
   "nbconvert_exporter": "python",
   "pygments_lexer": "ipython3",
   "version": "3.11.10"
  }
 },
 "nbformat": 4,
 "nbformat_minor": 2
}
